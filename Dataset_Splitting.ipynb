{
 "cells": [
  {
   "cell_type": "code",
   "execution_count": 1,
   "metadata": {
    "collapsed": true
   },
   "outputs": [],
   "source": [
    "import os\n",
    "import shutil\n",
    "from tqdm import tqdm\n",
    "import glob"
   ]
  },
  {
   "cell_type": "code",
   "execution_count": 2,
   "outputs": [
    {
     "name": "stderr",
     "output_type": "stream",
     "text": [
      "0it [00:00, ?it/s]\n",
      "100%|██████████| 3242/3242 [00:21<00:00, 149.12it/s]\n",
      "100%|██████████| 1114/1114 [00:06<00:00, 170.49it/s]\n",
      "100%|██████████| 679/679 [00:03<00:00, 174.28it/s]\n",
      "100%|██████████| 1069/1069 [00:06<00:00, 174.71it/s]\n",
      "100%|██████████| 736/736 [00:04<00:00, 174.52it/s]\n",
      "100%|██████████| 1012/1012 [00:05<00:00, 172.16it/s]\n",
      "100%|██████████| 624/624 [00:03<00:00, 180.86it/s]\n",
      "100%|██████████| 832/832 [00:04<00:00, 168.50it/s]\n",
      "100%|██████████| 387/387 [00:02<00:00, 177.69it/s]\n",
      "100%|██████████| 399/399 [00:02<00:00, 180.79it/s]\n",
      "100%|██████████| 1648/1648 [00:09<00:00, 173.05it/s]\n",
      "100%|██████████| 8728/8728 [00:53<00:00, 164.51it/s]\n",
      "100%|██████████| 3605/3605 [00:21<00:00, 169.72it/s]\n",
      "100%|██████████| 8884/8884 [00:53<00:00, 165.56it/s]\n",
      "100%|██████████| 1132/1132 [00:06<00:00, 182.50it/s]\n",
      "100%|██████████| 1889/1889 [00:12<00:00, 151.41it/s]\n",
      "100%|██████████| 1648/1648 [00:11<00:00, 147.14it/s]\n",
      "100%|██████████| 4410/4410 [00:28<00:00, 152.46it/s]\n",
      "100%|██████████| 6175/6175 [00:40<00:00, 153.69it/s]\n",
      "100%|██████████| 704/704 [00:04<00:00, 154.03it/s]\n",
      "100%|██████████| 987/987 [00:06<00:00, 151.66it/s]\n",
      "100%|██████████| 382/382 [00:03<00:00, 124.77it/s]\n",
      "100%|██████████| 522/522 [00:02<00:00, 190.67it/s]\n",
      "100%|██████████| 752/752 [00:04<00:00, 169.56it/s]\n",
      "100%|██████████| 1502/1502 [00:10<00:00, 142.26it/s]\n",
      "100%|██████████| 1246/1246 [00:09<00:00, 124.76it/s]\n",
      "100%|██████████| 665/665 [00:04<00:00, 135.27it/s]\n",
      "100%|██████████| 736/736 [00:05<00:00, 140.58it/s]\n",
      "100%|██████████| 1393/1393 [00:08<00:00, 165.45it/s]\n",
      "100%|██████████| 1384/1384 [00:10<00:00, 137.79it/s]\n",
      "100%|██████████| 1738/1738 [00:10<00:00, 170.20it/s]\n",
      "100%|██████████| 6162/6162 [00:40<00:00, 151.68it/s]\n",
      "100%|██████████| 681/681 [00:05<00:00, 125.62it/s]\n",
      "100%|██████████| 739/739 [00:05<00:00, 133.51it/s]\n",
      "100%|██████████| 642/642 [00:04<00:00, 155.75it/s]\n",
      "100%|██████████| 6193/6193 [00:42<00:00, 144.82it/s]\n",
      "100%|██████████| 10257/10257 [01:19<00:00, 128.67it/s]\n"
     ]
    }
   ],
   "source": [
    "Raw_DataSet_Path = r'D:\\UPT\\Anul IV\\Sem1\\CHS\\Proiect\\Datasets\\mrlEyes_2018_01'\n",
    "Prepared_DataSet_Path = r'D:\\UPT\\Anul IV\\Sem1\\CHS\\Proiect\\Datasets\\Eyes_DataSet'\n",
    "\n",
    "for path, dirname, filename in os.walk(Raw_DataSet_Path):\n",
    "    for index in tqdm([f for f in filename if f.endswith('.png')]):\n",
    "        #we take only the 4th index from each filename and check if it's closed or opened eyes\n",
    "        if index.split('_')[4] == '0':\n",
    "            shutil.copy(src=path+'/'+index, dst=Prepared_DataSet_Path+'\\Closed_Eyes')\n",
    "        elif index.split('_')[4] == '1':\n",
    "            shutil.copy(src=path+'/'+index, dst=Prepared_DataSet_Path+'\\Opened_Eyes')"
   ],
   "metadata": {
    "collapsed": false
   }
  }
 ],
 "metadata": {
  "kernelspec": {
   "display_name": "Python 3",
   "language": "python",
   "name": "python3"
  },
  "language_info": {
   "codemirror_mode": {
    "name": "ipython",
    "version": 2
   },
   "file_extension": ".py",
   "mimetype": "text/x-python",
   "name": "python",
   "nbconvert_exporter": "python",
   "pygments_lexer": "ipython2",
   "version": "2.7.6"
  }
 },
 "nbformat": 4,
 "nbformat_minor": 0
}
