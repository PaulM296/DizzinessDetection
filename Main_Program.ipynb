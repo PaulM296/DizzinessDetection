{
 "cells": [
  {
   "cell_type": "code",
   "execution_count": 1,
   "metadata": {
    "collapsed": true
   },
   "outputs": [
    {
     "ename": "ModuleNotFoundError",
     "evalue": "No module named 'cv2'",
     "output_type": "error",
     "traceback": [
      "\u001B[1;31m---------------------------------------------------------------------------\u001B[0m",
      "\u001B[1;31mModuleNotFoundError\u001B[0m                       Traceback (most recent call last)",
      "Cell \u001B[1;32mIn [1], line 1\u001B[0m\n\u001B[1;32m----> 1\u001B[0m \u001B[38;5;28;01mimport\u001B[39;00m \u001B[38;5;21;01mcv2\u001B[39;00m\n\u001B[0;32m      2\u001B[0m \u001B[38;5;28;01mimport\u001B[39;00m \u001B[38;5;21;01mtensorflow\u001B[39;00m \u001B[38;5;28;01mas\u001B[39;00m \u001B[38;5;21;01mtf\u001B[39;00m\n\u001B[0;32m      3\u001B[0m \u001B[38;5;28;01mfrom\u001B[39;00m \u001B[38;5;21;01mkeras\u001B[39;00m\u001B[38;5;21;01m.\u001B[39;00m\u001B[38;5;21;01mmodels\u001B[39;00m \u001B[38;5;28;01mimport\u001B[39;00m load_model\n",
      "\u001B[1;31mModuleNotFoundError\u001B[0m: No module named 'cv2'"
     ]
    }
   ],
   "source": [
    "import cv2\n",
    "from keras.models import load_model\n",
    "import numpy as np\n",
    "from pygame import mixer"
   ]
  },
  {
   "cell_type": "code",
   "execution_count": null,
   "outputs": [],
   "source": [
    "face_cascade = cv2.CascadeClassifier(cv2.data.haarcascades + 'haarcascade_frontalface_default.xml')\n",
    "eye_cascade = cv2.CascadeClassifier(cv2.data.haarcascades + 'haarcascade_eye.xml')\n",
    "\n",
    "model_output = load_model(r'D:\\UPT\\Anul IV\\Sem1\\CHS\\Proiect\\Models\\model.h5')"
   ],
   "metadata": {
    "collapsed": false
   }
  },
  {
   "cell_type": "code",
   "execution_count": null,
   "outputs": [],
   "source": [
    "dizziness_counter = 0\n",
    "\n",
    "mixer.init()\n",
    "alarm_sound = mixer.Sound(r'D:\\UPT\\Anul IV\\Sem1\\CHS\\Proiect\\alarm.wav')\n",
    "camera = cv2.VideoCapture(0)\n",
    "\n",
    "while True:\n",
    "    ret, frame = camera.read()\n",
    "    gray = cv2.cvtColor(frame, cv2.COLOR_BGR2GRAY)\n",
    "    height, width = frame.shape[0:2]\n",
    "\n",
    "    faces = face_cascade.detectMultiScale(gray, scaleFactor = 1.2, minNeighbors = 3)\n",
    "    eyes = eye_cascade.detectMultiScale(gray, scaleFactor = 1.1, minNeighbors = 1)\n",
    "\n",
    "    cv2.rectangle(frame, (0, height-50), (400, height), (0,0,0), thickness=cv2.FILLED)\n",
    "\n",
    "    #draw face rectangle\n",
    "    for (x,y,w,h) in faces:\n",
    "        cv2.rectangle(frame, pt1=(x,y), pt2=(x+w, y+h), color=(255, 0, 0), thickness=2)\n",
    "\n",
    "    #draw eyes rectangle\n",
    "    for (ex,ey,ew,eh) in eyes:\n",
    "        # cv2.rectangle(frame, pt1=(ex,ey), pt2=(ex+ew, ey+eh), color=(255, 0, 0), thickness=2)\n",
    "\n",
    "        #preprocessing step\n",
    "        eye = frame[ey:ey+eh, ex:ex+ew]\n",
    "        eye = cv2.resize(eye, (80,80))\n",
    "        eye = eye/255\n",
    "        eye = eye.reshape(80, 80, 3)\n",
    "        eye = np.expand_dims(eye, axis=0)\n",
    "\n",
    "        #model prediction\n",
    "        prediction = model_output.predict(eye)\n",
    "\n",
    "        #closed eyes\n",
    "        if prediction[0][0] > 0.30:\n",
    "            cv2.putText(frame, 'CLOSED eyes!', (10, height-20), fontFace = cv2.FONT_HERSHEY_SIMPLEX, fontScale=1, color = (255,255,255), thickness = 2, lineType=cv2.LINE_AA)\n",
    "            cv2.putText(frame, 'dizziness_counter: ' + str(dizziness_counter), (250, height-20), fontFace = cv2.FONT_HERSHEY_SIMPLEX, fontScale=1, color = (255,255,255), thickness = 2, lineType=cv2.LINE_AA)\n",
    "\n",
    "            dizziness_counter = dizziness_counter + 1\n",
    "            if(dizziness_counter > 15):\n",
    "                try:\n",
    "                    alarm_sound.play()\n",
    "                except:\n",
    "                    pass\n",
    "        #opened eyes\n",
    "        elif prediction[0][1] > 0.90:\n",
    "            cv2.putText(frame, 'Opened eyes.', (10, height-20), fontFace = cv2.FONT_HERSHEY_SIMPLEX, fontScale=1, color = (255,255,255), thickness = 2, lineType=cv2.LINE_AA)\n",
    "            cv2.putText(frame, 'dizziness_counter: ' + str(dizziness_counter), (250, height-20), fontFace = cv2.FONT_HERSHEY_SIMPLEX, fontScale=1, color = (255,255,255), thickness = 2, lineType=cv2.LINE_AA)\n",
    "\n",
    "            dizziness_counter = dizziness_counter - 1\n",
    "            if(dizziness_counter < 0):\n",
    "                dizziness_counter = 0\n",
    "\n",
    "    cv2.imshow('frame', frame)\n",
    "    if cv2.waitKey(33) & 0xFF==ord('s'):\n",
    "        break\n",
    "\n",
    "camera.release()\n",
    "cv2.destroyAllWindows()"
   ],
   "metadata": {
    "collapsed": false
   }
  }
 ],
 "metadata": {
  "kernelspec": {
   "display_name": "Python 3",
   "language": "python",
   "name": "python3"
  },
  "language_info": {
   "codemirror_mode": {
    "name": "ipython",
    "version": 2
   },
   "file_extension": ".py",
   "mimetype": "text/x-python",
   "name": "python",
   "nbconvert_exporter": "python",
   "pygments_lexer": "ipython2",
   "version": "2.7.6"
  }
 },
 "nbformat": 4,
 "nbformat_minor": 0
}
